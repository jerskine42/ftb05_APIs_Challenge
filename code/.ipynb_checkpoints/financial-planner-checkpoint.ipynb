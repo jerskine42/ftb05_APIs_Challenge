{
 "cells": [
  {
   "cell_type": "markdown",
   "metadata": {},
   "source": [
    "# Unit 5 - Financial Planning"
   ]
  },
  {
   "cell_type": "code",
   "execution_count": 1,
   "metadata": {},
   "outputs": [],
   "source": [
    "# Initial imports\n",
    "import os\n",
    "import requests\n",
    "import pandas as pd\n",
    "from dotenv import load_dotenv\n",
    "import alpaca_trade_api as tradeapi\n",
    "from MCForecastTools import MCSimulation\n",
    "import numpy as np\n",
    "import matplotlib.pyplot as plt\n",
    "import seaborn\n",
    "import warnings\n",
    "\n",
    "%matplotlib inline"
   ]
  },
  {
   "cell_type": "code",
   "execution_count": 2,
   "metadata": {},
   "outputs": [
    {
     "data": {
      "text/plain": [
       "True"
      ]
     },
     "execution_count": 2,
     "metadata": {},
     "output_type": "execute_result"
    }
   ],
   "source": [
    "# Load .env enviroment variables\n",
    "load_dotenv()"
   ]
  },
  {
   "cell_type": "markdown",
   "metadata": {},
   "source": [
    "## Part 1 - Personal Finance Planner"
   ]
  },
  {
   "cell_type": "markdown",
   "metadata": {},
   "source": [
    "### Variables for personal portfolio analysis:"
   ]
  },
  {
   "cell_type": "code",
   "execution_count": 3,
   "metadata": {},
   "outputs": [],
   "source": [
    "# Set current asset ticker symbol\n",
    "ticker_BTC = 'BTC'  \n",
    "ticker_ETH = 'ETH '  \n",
    "ticker_SPY = 'SPY'   \n",
    "ticker_AGG = 'AGG'  \n",
    "\n",
    "# Set current asset names\n",
    "name_BTC = 'Bitcoin'  \n",
    "name_ETH = 'Ethereum '  \n",
    "name_SPY = 'SPDR S&P 500 ETF Trust'   \n",
    "name_AGG = 'iShares Core US Aggregate Bond ETF'  \n",
    "\n",
    "# Set current amount of assets\n",
    "shares_BTC = 1.2  # amount of bitcoin crypto assets\n",
    "shares_ETH = 5.3  # amount of ETH crypto assets\n",
    "shares_SPY = 50   # amount of SPY stocks assets\n",
    "shares_AGG = 200  # amount of AGG bonds assets\n",
    "\n",
    "# Set current assets types\n",
    "type_BTC = 'Crypto'  # BTC crypto assets\n",
    "type_ETH = 'Crypto'  # ETH crypto assets\n",
    "type_SPY = 'Stocks'  # SPY stocks assets\n",
    "type_AGG = 'Stocks'   # AGG bonds assets\n",
    "\n",
    "# Set current assets types\n",
    "risk_BTC = 'High'    # BTC crypto is percieved as high risk\n",
    "risk_ETH = 'High'    # ETH crypto is percieved as high risk\n",
    "risk_SPY = 'Medium'  # SPY stocks is percieved as Medium risk\n",
    "risk_AGG = 'Low'     # AGG sonds is percieved as low risk\n",
    "\n",
    "crypto_currency = 'CAD'\n"
   ]
  },
  {
   "cell_type": "markdown",
   "metadata": {
    "tags": []
   },
   "source": [
    "### Collect Crypto Prices Using the `requests` Library"
   ]
  },
  {
   "cell_type": "code",
   "execution_count": 4,
   "metadata": {},
   "outputs": [],
   "source": [
    "# Crypto API URLs\n",
    "url_BTC = \"https://api.alternative.me/v2/ticker/Bitcoin/?convert=CAD\"\n",
    "url_ETH = \"https://api.alternative.me/v2/ticker/Ethereum/?convert=CAD\""
   ]
  },
  {
   "cell_type": "code",
   "execution_count": 5,
   "metadata": {},
   "outputs": [
    {
     "name": "stdout",
     "output_type": "stream",
     "text": [
      "The current value of your 1.2 BTC @ $25262.84/unit is $30315.40\n",
      "The current value of your 5.3 ETH @ $1705.91/unit is $9041.32\n"
     ]
    }
   ],
   "source": [
    "# Fetch current BTC price\n",
    "data_BTC = requests.get(url_BTC)\n",
    "content_BTC = data_BTC.content\n",
    "json_BTC = data_BTC.json()\n",
    "#display(json_BTC)              # View data structure to determine select parameters\n",
    "close_price_BTC = json_BTC['data']['1']['quotes']['CAD']['price']\n",
    "#display(close_price_BTC)              # View retrived data \n",
    "\n",
    "# Fetch current ETH price\n",
    "data_ETH = requests.get(url_ETH)\n",
    "content_ETH = data_ETH.content\n",
    "json_ETH = data_ETH.json()\n",
    "#display(json_ETH)              # View data structure to determine select parameters\n",
    "close_price_ETH = json_ETH['data']['1027']['quotes']['CAD']['price']\n",
    "#display(close_price_ETH)              # View retrived data \n",
    "\n",
    "# Compute current value of my crpto\n",
    "# Calculated in-line\n",
    "value_BTC = shares_BTC * close_price_BTC\n",
    "value_ETH = shares_ETH * close_price_ETH\n",
    "\n",
    "# Print current crypto wallet balance\n",
    "print(f\"The current value of your {shares_BTC} BTC @ ${close_price_BTC:0.2f}/unit is ${value_BTC:0.2f}\")\n",
    "print(f\"The current value of your {shares_ETH} ETH @ ${close_price_ETH:0.2f}/unit is ${value_ETH:0.2f}\")"
   ]
  },
  {
   "cell_type": "markdown",
   "metadata": {},
   "source": [
    "### Collect Investments Data Using Alpaca: `SPY` (stocks) and `AGG` (bonds)"
   ]
  },
  {
   "cell_type": "code",
   "execution_count": 6,
   "metadata": {},
   "outputs": [
    {
     "data": {
      "text/plain": [
       "str"
      ]
     },
     "metadata": {},
     "output_type": "display_data"
    },
    {
     "data": {
      "text/plain": [
       "str"
      ]
     },
     "metadata": {},
     "output_type": "display_data"
    }
   ],
   "source": [
    "# Set Alpaca API key and secret\n",
    "api_key_alpaca_a = os.getenv(\"ALPACA_API_KEY\")\n",
    "api_key_alpaca_s = os.getenv(\"ALPACA_SECRET_KEY\")\n",
    "\n",
    "# Validata a str object was retrieved\n",
    "display(type(api_key_alpaca_a))\n",
    "display(type(api_key_alpaca_s))"
   ]
  },
  {
   "cell_type": "code",
   "execution_count": 7,
   "metadata": {},
   "outputs": [],
   "source": [
    "# Create the Alpaca API object\n",
    "api_alpaca = tradeapi.REST(\n",
    "    api_key_alpaca_a,\n",
    "    api_key_alpaca_s,\n",
    "    api_version = 'v2'\n",
    ")"
   ]
  },
  {
   "cell_type": "code",
   "execution_count": 8,
   "metadata": {},
   "outputs": [
    {
     "data": {
      "text/html": [
       "<div>\n",
       "<style scoped>\n",
       "    .dataframe tbody tr th:only-of-type {\n",
       "        vertical-align: middle;\n",
       "    }\n",
       "\n",
       "    .dataframe tbody tr th {\n",
       "        vertical-align: top;\n",
       "    }\n",
       "\n",
       "    .dataframe thead tr th {\n",
       "        text-align: left;\n",
       "    }\n",
       "</style>\n",
       "<table border=\"1\" class=\"dataframe\">\n",
       "  <thead>\n",
       "    <tr>\n",
       "      <th></th>\n",
       "      <th colspan=\"7\" halign=\"left\">AGG</th>\n",
       "      <th colspan=\"7\" halign=\"left\">SPY</th>\n",
       "    </tr>\n",
       "    <tr>\n",
       "      <th></th>\n",
       "      <th>open</th>\n",
       "      <th>high</th>\n",
       "      <th>low</th>\n",
       "      <th>close</th>\n",
       "      <th>volume</th>\n",
       "      <th>trade_count</th>\n",
       "      <th>vwap</th>\n",
       "      <th>open</th>\n",
       "      <th>high</th>\n",
       "      <th>low</th>\n",
       "      <th>close</th>\n",
       "      <th>volume</th>\n",
       "      <th>trade_count</th>\n",
       "      <th>vwap</th>\n",
       "    </tr>\n",
       "  </thead>\n",
       "  <tbody>\n",
       "    <tr>\n",
       "      <th>2020-07-14</th>\n",
       "      <td>118.58</td>\n",
       "      <td>118.74</td>\n",
       "      <td>118.58</td>\n",
       "      <td>118.67</td>\n",
       "      <td>3986756</td>\n",
       "      <td>14580</td>\n",
       "      <td>118.667216</td>\n",
       "      <td>313.25</td>\n",
       "      <td>319.76</td>\n",
       "      <td>312.0</td>\n",
       "      <td>318.92</td>\n",
       "      <td>93545651</td>\n",
       "      <td>580270</td>\n",
       "      <td>316.244144</td>\n",
       "    </tr>\n",
       "  </tbody>\n",
       "</table>\n",
       "</div>"
      ],
      "text/plain": [
       "               AGG                                                           \\\n",
       "              open    high     low   close   volume trade_count        vwap   \n",
       "2020-07-14  118.58  118.74  118.58  118.67  3986756       14580  118.667216   \n",
       "\n",
       "               SPY                                                           \n",
       "              open    high    low   close    volume trade_count        vwap  \n",
       "2020-07-14  313.25  319.76  312.0  318.92  93545651      580270  316.244144  "
      ]
     },
     "metadata": {},
     "output_type": "display_data"
    }
   ],
   "source": [
    "# Format current date as ISO format\n",
    "today = pd.Timestamp('2020-07-14', tz = 'America/New_York').isoformat()\n",
    "\n",
    "# Set the tickers\n",
    "tickers = [ticker_AGG, ticker_SPY]\n",
    "\n",
    "# Set timeframe to \"1Day\" for Alpaca API\n",
    "timeframe = \"1Day\"\n",
    "\n",
    "# Get current closing prices for SPY and AGG\n",
    "df_alpaca = api_alpaca.get_bars(\n",
    "    tickers,\n",
    "    timeframe,\n",
    "    start = today,\n",
    "    end = today\n",
    ").df\n",
    "\n",
    "#data_alpaca\n",
    "\n",
    "# Reorganize the DataFrame - Separate ticker data\n",
    "df_alpaca_AGG = df_alpaca[df_alpaca['symbol'] == ticker_AGG].drop('symbol', axis = 'columns')\n",
    "df_alpaca_SPY = df_alpaca[df_alpaca['symbol'] == ticker_SPY].drop('symbol', axis = 'columns')\n",
    "\n",
    "# Concatenate the ticker DataFrames\n",
    "df_alpaca_data = pd.concat([df_alpaca_AGG, df_alpaca_SPY], axis = 'columns', keys = tickers)\n",
    "df_alpaca_data.index = df_alpaca_data.index.date\n",
    "\n",
    "# Preview DataFrame\n",
    "display(df_alpaca_data)"
   ]
  },
  {
   "cell_type": "code",
   "execution_count": 9,
   "metadata": {},
   "outputs": [
    {
     "name": "stdout",
     "output_type": "stream",
     "text": [
      "Current AGG closing price: $118.67\n",
      "Current SPY closing price: $318.92\n"
     ]
    }
   ],
   "source": [
    "# Pick AGG and SPY close prices\n",
    "close_price_AGG = float(df_alpaca_data[ticker_AGG]['close'])\n",
    "close_price_SPY = float(df_alpaca_data[ticker_SPY]['close'])\n",
    "\n",
    "# Print AGG and SPY close prices\n",
    "print(f\"Current AGG closing price: ${close_price_AGG}\")\n",
    "print(f\"Current SPY closing price: ${close_price_SPY}\")"
   ]
  },
  {
   "cell_type": "code",
   "execution_count": 10,
   "metadata": {},
   "outputs": [
    {
     "name": "stdout",
     "output_type": "stream",
     "text": [
      "The current value of your 50 SPY shares @ $318.92/share is $15946.00\n",
      "The current value of your 200 AGG shares @ $118.67/share is $23734.00\n"
     ]
    }
   ],
   "source": [
    "# Compute the current value of shares\n",
    "value_AGG = shares_AGG * close_price_AGG\n",
    "value_SPY = shares_SPY * close_price_SPY\n",
    "\n",
    "\n",
    "# Print current value of shares\n",
    "print(f\"The current value of your {shares_SPY} SPY shares @ ${close_price_SPY:0.2f}/share is ${value_SPY:0.2f}\")\n",
    "print(f\"The current value of your {shares_AGG} AGG shares @ ${close_price_AGG:0.2f}/share is ${value_AGG:0.2f}\")"
   ]
  },
  {
   "cell_type": "markdown",
   "metadata": {},
   "source": [
    "### Savings Health Analysis"
   ]
  },
  {
   "cell_type": "code",
   "execution_count": 11,
   "metadata": {},
   "outputs": [
    {
     "data": {
      "text/html": [
       "<div>\n",
       "<style scoped>\n",
       "    .dataframe tbody tr th:only-of-type {\n",
       "        vertical-align: middle;\n",
       "    }\n",
       "\n",
       "    .dataframe tbody tr th {\n",
       "        vertical-align: top;\n",
       "    }\n",
       "\n",
       "    .dataframe thead th {\n",
       "        text-align: right;\n",
       "    }\n",
       "</style>\n",
       "<table border=\"1\" class=\"dataframe\">\n",
       "  <thead>\n",
       "    <tr style=\"text-align: right;\">\n",
       "      <th></th>\n",
       "      <th>value</th>\n",
       "    </tr>\n",
       "    <tr>\n",
       "      <th>type</th>\n",
       "      <th></th>\n",
       "    </tr>\n",
       "  </thead>\n",
       "  <tbody>\n",
       "    <tr>\n",
       "      <th>Crypto</th>\n",
       "      <td>39356.727313</td>\n",
       "    </tr>\n",
       "    <tr>\n",
       "      <th>Stocks</th>\n",
       "      <td>39680.000000</td>\n",
       "    </tr>\n",
       "  </tbody>\n",
       "</table>\n",
       "</div>"
      ],
      "text/plain": [
       "               value\n",
       "type                \n",
       "Crypto  39356.727313\n",
       "Stocks  39680.000000"
      ]
     },
     "metadata": {},
     "output_type": "display_data"
    }
   ],
   "source": [
    "# Set monthly household income\n",
    "monthly_income = 12000\n",
    "\n",
    "# Consolidate financial assets data\n",
    "df_portfolio = pd.DataFrame(np.array([[ticker_BTC, name_BTC, type_BTC, risk_BTC, shares_BTC, close_price_BTC, value_BTC]\n",
    "                             , [ticker_ETH, name_ETH, type_ETH, risk_ETH, shares_ETH, close_price_ETH, value_ETH]\n",
    "                             , [ticker_AGG, name_AGG, type_AGG, risk_AGG, shares_AGG, close_price_AGG, value_AGG]\n",
    "                             , [ticker_SPY, name_SPY, type_SPY, risk_SPY, shares_SPY, close_price_SPY, value_SPY]\n",
    "                            ])\n",
    "                          , columns = ['ticker', 'name', 'type', 'risk', 'shares', 'price', 'value']).set_index('ticker')\n",
    "#display(df_portfolio.dtypes)   # Validate datatypes\n",
    "\n",
    "# Set datatypes in the data frame\n",
    "df_portfolio = df_portfolio.astype({'name' : str, 'type' : str, 'risk' : str, 'shares' : float, 'price' : float, 'value' : float})\n",
    "#display(df_portfolio.dtypes)   # Validate datatypes\n",
    "\n",
    "# Create savings DataFrame\n",
    "df_savings_type = df_portfolio[['type','value']].groupby(by = 'type').sum() \n",
    "\n",
    "# Display savings DataFrame\n",
    "#display(df_portfolio)         # Validate portfolio dataframe\n",
    "display(df_savings_type)            # Validate savings dataframe\n",
    "\n",
    "# Reference: https://pandas.pydata.org/docs/reference/api/pandas.DataFrame.html"
   ]
  },
  {
   "cell_type": "code",
   "execution_count": 12,
   "metadata": {},
   "outputs": [
    {
     "data": {
      "image/png": "[encoded data removed]",
      "text/plain": [
       "<Figure size 432x288 with 1 Axes>"
      ]
     },
     "metadata": {},
     "output_type": "display_data"
    }
   ],
   "source": [
    "# Plot savings by security type pie chart\n",
    "# declaring data\n",
    "data = df_savings_type['value']\n",
    "keys = df_savings_type.index.values\n",
    "  \n",
    "# declaring exploding pie\n",
    "explode = [0, 0.1]\n",
    "\n",
    "# define Seaborn color palette to use\n",
    "palette_color = seaborn.color_palette('bright')\n",
    "  \n",
    "# plotting data on chart\n",
    "plt.pie(data, labels=keys, colors=palette_color,\n",
    "        explode=explode, autopct='%.0f%%')\n",
    "plt.title('Asset Composition of Portfolio')\n",
    "  \n",
    "# displaying chart\n",
    "plt.show()\n",
    "\n",
    "#Reference: https://www.geeksforgeeks.org/how-to-create-a-pie-chart-in-seaborn/"
   ]
  },
  {
   "cell_type": "code",
   "execution_count": 13,
   "metadata": {},
   "outputs": [
    {
     "data": {
      "text/html": [
       "<div>\n",
       "<style scoped>\n",
       "    .dataframe tbody tr th:only-of-type {\n",
       "        vertical-align: middle;\n",
       "    }\n",
       "\n",
       "    .dataframe tbody tr th {\n",
       "        vertical-align: top;\n",
       "    }\n",
       "\n",
       "    .dataframe thead th {\n",
       "        text-align: right;\n",
       "    }\n",
       "</style>\n",
       "<table border=\"1\" class=\"dataframe\">\n",
       "  <thead>\n",
       "    <tr style=\"text-align: right;\">\n",
       "      <th></th>\n",
       "      <th>value</th>\n",
       "    </tr>\n",
       "    <tr>\n",
       "      <th>risk</th>\n",
       "      <th></th>\n",
       "    </tr>\n",
       "  </thead>\n",
       "  <tbody>\n",
       "    <tr>\n",
       "      <th>High</th>\n",
       "      <td>39356.727313</td>\n",
       "    </tr>\n",
       "    <tr>\n",
       "      <th>Low</th>\n",
       "      <td>23734.000000</td>\n",
       "    </tr>\n",
       "    <tr>\n",
       "      <th>Medium</th>\n",
       "      <td>15946.000000</td>\n",
       "    </tr>\n",
       "  </tbody>\n",
       "</table>\n",
       "</div>"
      ],
      "text/plain": [
       "               value\n",
       "risk                \n",
       "High    39356.727313\n",
       "Low     23734.000000\n",
       "Medium  15946.000000"
      ]
     },
     "metadata": {},
     "output_type": "display_data"
    }
   ],
   "source": [
    "# Create savings DataFrame\n",
    "df_savings_risk = df_portfolio[['risk','value']].groupby(by = 'risk').sum() \n",
    "\n",
    "# Display savings DataFrame\n",
    "#display(df_portfolio)         # Validate portfolio dataframe\n",
    "display(df_savings_risk)            # Validate savings dataframe"
   ]
  },
  {
   "cell_type": "code",
   "execution_count": 14,
   "metadata": {},
   "outputs": [
    {
     "data": {
      "image/png": "[encoded data removed]",
      "text/plain": [
       "<Figure size 432x288 with 1 Axes>"
      ]
     },
     "metadata": {},
     "output_type": "display_data"
    }
   ],
   "source": [
    "# Plot savings by percieved risk pie chart\n",
    "# declaring data\n",
    "data = df_savings_risk['value']\n",
    "keys = df_savings_risk.index.values\n",
    "  \n",
    "# declaring exploding pie\n",
    "explode = [0.1, 0, 0]\n",
    "\n",
    "# define Seaborn color palette to use\n",
    "palette_color = seaborn.color_palette('bright')\n",
    "  \n",
    "# plotting data on chart\n",
    "plt.pie(data, labels=keys, colors=palette_color,\n",
    "        explode=explode, autopct='%.0f%%')\n",
    "plt.title('Asset Composition of Portfolio')\n",
    "  \n",
    "# displaying chart\n",
    "plt.show()\n",
    "\n",
    "#Reference: https://www.geeksforgeeks.org/how-to-create-a-pie-chart-in-seaborn/"
   ]
  },
  {
   "cell_type": "code",
   "execution_count": 15,
   "metadata": {},
   "outputs": [
    {
     "name": "stdout",
     "output_type": "stream",
     "text": [
      "Emergency Fund: $36000.00\n",
      "Total Savings: $79036.73\n",
      "\n",
      "Total savings is an adequite emergency fund with $43036.73 extra.\n"
     ]
    }
   ],
   "source": [
    "# Set ideal emergency fund\n",
    "emergency_fund = monthly_income * 3 \n",
    "#emergency_fund = monthly_income * 10     # Testing the alternate scenario \n",
    "\n",
    "# Calculate total amount of savings\n",
    "total_savings = df_savings_type['value'].sum()\n",
    "\n",
    "# Validate saving health\n",
    "print(f\"Emergency Fund: ${emergency_fund:0.2f}\\nTotal Savings: ${total_savings:0.2f}\\n\")\n",
    "if total_savings >= emergency_fund:\n",
    "    print(f\"Total savings is an adequite emergency fund with ${total_savings - emergency_fund:0.2f} extra.\")\n",
    "else:\n",
    "    print(f\"Total savings is not an adequite emergency fund with ${total_savings - emergency_fund:0.2f} short fall.\")\n"
   ]
  },
  {
   "cell_type": "markdown",
   "metadata": {},
   "source": [
    "## Part 2 - Retirement Planning\n",
    "\n",
    "### Monte Carlo Simulation"
   ]
  },
  {
   "cell_type": "code",
   "execution_count": 16,
   "metadata": {},
   "outputs": [],
   "source": [
    "# Set start and end dates of five years back from today.\n",
    "# Sample results may vary from the solution based on the time frame chosen\n",
    "start_date = pd.Timestamp('2016-05-01', tz='America/New_York').isoformat()\n",
    "end_date = pd.Timestamp('2021-05-01', tz='America/New_York').isoformat()"
   ]
  },
  {
   "cell_type": "code",
   "execution_count": 17,
   "metadata": {},
   "outputs": [
    {
     "data": {
      "text/html": [
       "<div>\n",
       "<style scoped>\n",
       "    .dataframe tbody tr th:only-of-type {\n",
       "        vertical-align: middle;\n",
       "    }\n",
       "\n",
       "    .dataframe tbody tr th {\n",
       "        vertical-align: top;\n",
       "    }\n",
       "\n",
       "    .dataframe thead tr th {\n",
       "        text-align: left;\n",
       "    }\n",
       "</style>\n",
       "<table border=\"1\" class=\"dataframe\">\n",
       "  <thead>\n",
       "    <tr>\n",
       "      <th></th>\n",
       "      <th colspan=\"7\" halign=\"left\">AGG</th>\n",
       "      <th colspan=\"7\" halign=\"left\">SPY</th>\n",
       "    </tr>\n",
       "    <tr>\n",
       "      <th></th>\n",
       "      <th>open</th>\n",
       "      <th>high</th>\n",
       "      <th>low</th>\n",
       "      <th>close</th>\n",
       "      <th>volume</th>\n",
       "      <th>trade_count</th>\n",
       "      <th>vwap</th>\n",
       "      <th>open</th>\n",
       "      <th>high</th>\n",
       "      <th>low</th>\n",
       "      <th>close</th>\n",
       "      <th>volume</th>\n",
       "      <th>trade_count</th>\n",
       "      <th>vwap</th>\n",
       "    </tr>\n",
       "  </thead>\n",
       "  <tbody>\n",
       "    <tr>\n",
       "      <th>2016-05-02</th>\n",
       "      <td>110.74</td>\n",
       "      <td>110.7400</td>\n",
       "      <td>110.5200</td>\n",
       "      <td>110.61</td>\n",
       "      <td>3553939</td>\n",
       "      <td>15119</td>\n",
       "      <td>110.627199</td>\n",
       "      <td>206.90</td>\n",
       "      <td>208.18</td>\n",
       "      <td>206.4100</td>\n",
       "      <td>208.03</td>\n",
       "      <td>61908515</td>\n",
       "      <td>263580</td>\n",
       "      <td>207.294812</td>\n",
       "    </tr>\n",
       "    <tr>\n",
       "      <th>2016-05-03</th>\n",
       "      <td>110.89</td>\n",
       "      <td>110.9450</td>\n",
       "      <td>110.7500</td>\n",
       "      <td>110.81</td>\n",
       "      <td>3044940</td>\n",
       "      <td>15662</td>\n",
       "      <td>110.865995</td>\n",
       "      <td>206.50</td>\n",
       "      <td>206.80</td>\n",
       "      <td>205.2800</td>\n",
       "      <td>206.13</td>\n",
       "      <td>106422142</td>\n",
       "      <td>377518</td>\n",
       "      <td>206.312060</td>\n",
       "    </tr>\n",
       "    <tr>\n",
       "      <th>2016-05-04</th>\n",
       "      <td>110.91</td>\n",
       "      <td>110.9315</td>\n",
       "      <td>110.7595</td>\n",
       "      <td>110.86</td>\n",
       "      <td>2920608</td>\n",
       "      <td>13982</td>\n",
       "      <td>110.879063</td>\n",
       "      <td>205.00</td>\n",
       "      <td>205.85</td>\n",
       "      <td>204.4200</td>\n",
       "      <td>204.96</td>\n",
       "      <td>92199810</td>\n",
       "      <td>345261</td>\n",
       "      <td>205.090172</td>\n",
       "    </tr>\n",
       "    <tr>\n",
       "      <th>2016-05-05</th>\n",
       "      <td>110.92</td>\n",
       "      <td>111.1600</td>\n",
       "      <td>110.8010</td>\n",
       "      <td>111.14</td>\n",
       "      <td>3008142</td>\n",
       "      <td>15707</td>\n",
       "      <td>111.028363</td>\n",
       "      <td>205.57</td>\n",
       "      <td>205.98</td>\n",
       "      <td>204.4700</td>\n",
       "      <td>204.95</td>\n",
       "      <td>67597222</td>\n",
       "      <td>280622</td>\n",
       "      <td>205.141555</td>\n",
       "    </tr>\n",
       "    <tr>\n",
       "      <th>2016-05-06</th>\n",
       "      <td>111.12</td>\n",
       "      <td>111.1200</td>\n",
       "      <td>110.9700</td>\n",
       "      <td>110.97</td>\n",
       "      <td>2718710</td>\n",
       "      <td>12697</td>\n",
       "      <td>111.031967</td>\n",
       "      <td>204.04</td>\n",
       "      <td>205.77</td>\n",
       "      <td>203.8800</td>\n",
       "      <td>205.70</td>\n",
       "      <td>89131004</td>\n",
       "      <td>340335</td>\n",
       "      <td>204.937074</td>\n",
       "    </tr>\n",
       "    <tr>\n",
       "      <th>...</th>\n",
       "      <td>...</td>\n",
       "      <td>...</td>\n",
       "      <td>...</td>\n",
       "      <td>...</td>\n",
       "      <td>...</td>\n",
       "      <td>...</td>\n",
       "      <td>...</td>\n",
       "      <td>...</td>\n",
       "      <td>...</td>\n",
       "      <td>...</td>\n",
       "      <td>...</td>\n",
       "      <td>...</td>\n",
       "      <td>...</td>\n",
       "      <td>...</td>\n",
       "    </tr>\n",
       "    <tr>\n",
       "      <th>2021-04-26</th>\n",
       "      <td>114.74</td>\n",
       "      <td>114.8015</td>\n",
       "      <td>114.6500</td>\n",
       "      <td>114.65</td>\n",
       "      <td>3480303</td>\n",
       "      <td>13520</td>\n",
       "      <td>114.706244</td>\n",
       "      <td>417.42</td>\n",
       "      <td>418.22</td>\n",
       "      <td>416.8111</td>\n",
       "      <td>417.61</td>\n",
       "      <td>51824860</td>\n",
       "      <td>295870</td>\n",
       "      <td>417.508245</td>\n",
       "    </tr>\n",
       "    <tr>\n",
       "      <th>2021-04-27</th>\n",
       "      <td>114.60</td>\n",
       "      <td>115.1300</td>\n",
       "      <td>114.3700</td>\n",
       "      <td>114.37</td>\n",
       "      <td>3820640</td>\n",
       "      <td>12720</td>\n",
       "      <td>114.498315</td>\n",
       "      <td>417.97</td>\n",
       "      <td>418.14</td>\n",
       "      <td>416.3000</td>\n",
       "      <td>417.52</td>\n",
       "      <td>50297139</td>\n",
       "      <td>296300</td>\n",
       "      <td>417.481360</td>\n",
       "    </tr>\n",
       "    <tr>\n",
       "      <th>2021-04-28</th>\n",
       "      <td>114.45</td>\n",
       "      <td>114.4685</td>\n",
       "      <td>114.2000</td>\n",
       "      <td>114.43</td>\n",
       "      <td>7075831</td>\n",
       "      <td>24303</td>\n",
       "      <td>114.379810</td>\n",
       "      <td>417.84</td>\n",
       "      <td>419.01</td>\n",
       "      <td>416.9000</td>\n",
       "      <td>417.40</td>\n",
       "      <td>50692781</td>\n",
       "      <td>330049</td>\n",
       "      <td>417.742098</td>\n",
       "    </tr>\n",
       "    <tr>\n",
       "      <th>2021-04-29</th>\n",
       "      <td>114.14</td>\n",
       "      <td>114.3700</td>\n",
       "      <td>114.0900</td>\n",
       "      <td>114.37</td>\n",
       "      <td>6208142</td>\n",
       "      <td>21096</td>\n",
       "      <td>114.250702</td>\n",
       "      <td>420.38</td>\n",
       "      <td>420.72</td>\n",
       "      <td>416.4400</td>\n",
       "      <td>420.06</td>\n",
       "      <td>76965583</td>\n",
       "      <td>443396</td>\n",
       "      <td>418.824046</td>\n",
       "    </tr>\n",
       "    <tr>\n",
       "      <th>2021-04-30</th>\n",
       "      <td>114.41</td>\n",
       "      <td>114.5150</td>\n",
       "      <td>114.3300</td>\n",
       "      <td>114.49</td>\n",
       "      <td>6469432</td>\n",
       "      <td>19582</td>\n",
       "      <td>114.456246</td>\n",
       "      <td>417.67</td>\n",
       "      <td>418.54</td>\n",
       "      <td>416.3400</td>\n",
       "      <td>417.30</td>\n",
       "      <td>84731942</td>\n",
       "      <td>478844</td>\n",
       "      <td>417.651995</td>\n",
       "    </tr>\n",
       "  </tbody>\n",
       "</table>\n",
       "<p>1259 rows × 14 columns</p>\n",
       "</div>"
      ],
      "text/plain": [
       "               AGG                                                   \\\n",
       "              open      high       low   close   volume trade_count   \n",
       "2016-05-02  110.74  110.7400  110.5200  110.61  3553939       15119   \n",
       "2016-05-03  110.89  110.9450  110.7500  110.81  3044940       15662   \n",
       "2016-05-04  110.91  110.9315  110.7595  110.86  2920608       13982   \n",
       "2016-05-05  110.92  111.1600  110.8010  111.14  3008142       15707   \n",
       "2016-05-06  111.12  111.1200  110.9700  110.97  2718710       12697   \n",
       "...            ...       ...       ...     ...      ...         ...   \n",
       "2021-04-26  114.74  114.8015  114.6500  114.65  3480303       13520   \n",
       "2021-04-27  114.60  115.1300  114.3700  114.37  3820640       12720   \n",
       "2021-04-28  114.45  114.4685  114.2000  114.43  7075831       24303   \n",
       "2021-04-29  114.14  114.3700  114.0900  114.37  6208142       21096   \n",
       "2021-04-30  114.41  114.5150  114.3300  114.49  6469432       19582   \n",
       "\n",
       "                           SPY                                       \\\n",
       "                  vwap    open    high       low   close     volume   \n",
       "2016-05-02  110.627199  206.90  208.18  206.4100  208.03   61908515   \n",
       "2016-05-03  110.865995  206.50  206.80  205.2800  206.13  106422142   \n",
       "2016-05-04  110.879063  205.00  205.85  204.4200  204.96   92199810   \n",
       "2016-05-05  111.028363  205.57  205.98  204.4700  204.95   67597222   \n",
       "2016-05-06  111.031967  204.04  205.77  203.8800  205.70   89131004   \n",
       "...                ...     ...     ...       ...     ...        ...   \n",
       "2021-04-26  114.706244  417.42  418.22  416.8111  417.61   51824860   \n",
       "2021-04-27  114.498315  417.97  418.14  416.3000  417.52   50297139   \n",
       "2021-04-28  114.379810  417.84  419.01  416.9000  417.40   50692781   \n",
       "2021-04-29  114.250702  420.38  420.72  416.4400  420.06   76965583   \n",
       "2021-04-30  114.456246  417.67  418.54  416.3400  417.30   84731942   \n",
       "\n",
       "                                    \n",
       "           trade_count        vwap  \n",
       "2016-05-02      263580  207.294812  \n",
       "2016-05-03      377518  206.312060  \n",
       "2016-05-04      345261  205.090172  \n",
       "2016-05-05      280622  205.141555  \n",
       "2016-05-06      340335  204.937074  \n",
       "...                ...         ...  \n",
       "2021-04-26      295870  417.508245  \n",
       "2021-04-27      296300  417.481360  \n",
       "2021-04-28      330049  417.742098  \n",
       "2021-04-29      443396  418.824046  \n",
       "2021-04-30      478844  417.651995  \n",
       "\n",
       "[1259 rows x 14 columns]"
      ]
     },
     "execution_count": 17,
     "metadata": {},
     "output_type": "execute_result"
    }
   ],
   "source": [
    "# Get 5 years' worth of historical data for SPY and AGG\n",
    "# Set the tickers\n",
    "tickers = [ticker_AGG, ticker_SPY]\n",
    "\n",
    "# Set timeframe to \"1Day\" for Alpaca API\n",
    "timeframe = \"1Day\"\n",
    "\n",
    "# Get current closing prices for SPY and AGG\n",
    "df_alpaca = api_alpaca.get_bars(\n",
    "    tickers,\n",
    "    timeframe,\n",
    "    start = start_date,\n",
    "    end = end_date\n",
    ").df\n",
    "\n",
    "#data_alpaca\n",
    "\n",
    "# Reorganize the DataFrame - Separate ticker data\n",
    "df_alpaca_AGG = df_alpaca[df_alpaca['symbol'] == ticker_AGG].drop('symbol', axis = 'columns')\n",
    "df_alpaca_SPY = df_alpaca[df_alpaca['symbol'] == ticker_SPY].drop('symbol', axis = 'columns')\n",
    "\n",
    "# Concatenate the ticker DataFrames\n",
    "df_alpaca_data = pd.concat([df_alpaca_AGG, df_alpaca_SPY], axis = 'columns', keys = tickers)\n",
    "df_alpaca_data.index = df_alpaca_data.index.date\n",
    "\n",
    "# Display sample data\n",
    "df_alpaca_data"
   ]
  },
  {
   "cell_type": "code",
   "execution_count": 18,
   "metadata": {},
   "outputs": [],
   "source": [
    "# Configuring a Monte Carlo simulation to forecast 30 years cumulative returns\n",
    "trading_years = 30\n",
    "trading_days_year = 252\n",
    "#num_sims = 100                # Developing code with 100 simulations\n",
    "num_sims = 500                 # Requiremnt code with 500 simulations   \n",
    "portfolio_weight_AGG = .40     # AGG = 40%\n",
    "portfolio_weight_SPY = .60     # SPY = 60%\n",
    "security_weights = [portfolio_weight_AGG, portfolio_weight_SPY]   \n",
    "\n",
    "mc_cum_returns = MCSimulation(\n",
    "    portfolio_data = df_alpaca_data.copy()\n",
    "    , weights = security_weights\n",
    "    , num_simulation = num_sims\n",
    "    , num_trading_days = trading_days_year * trading_years\n",
    ")"
   ]
  },
  {
   "cell_type": "code",
   "execution_count": 19,
   "metadata": {},
   "outputs": [
    {
     "data": {
      "text/html": [
       "<div>\n",
       "<style scoped>\n",
       "    .dataframe tbody tr th:only-of-type {\n",
       "        vertical-align: middle;\n",
       "    }\n",
       "\n",
       "    .dataframe tbody tr th {\n",
       "        vertical-align: top;\n",
       "    }\n",
       "\n",
       "    .dataframe thead tr th {\n",
       "        text-align: left;\n",
       "    }\n",
       "</style>\n",
       "<table border=\"1\" class=\"dataframe\">\n",
       "  <thead>\n",
       "    <tr>\n",
       "      <th></th>\n",
       "      <th colspan=\"8\" halign=\"left\">AGG</th>\n",
       "      <th colspan=\"8\" halign=\"left\">SPY</th>\n",
       "    </tr>\n",
       "    <tr>\n",
       "      <th></th>\n",
       "      <th>open</th>\n",
       "      <th>high</th>\n",
       "      <th>low</th>\n",
       "      <th>close</th>\n",
       "      <th>volume</th>\n",
       "      <th>trade_count</th>\n",
       "      <th>vwap</th>\n",
       "      <th>daily_return</th>\n",
       "      <th>open</th>\n",
       "      <th>high</th>\n",
       "      <th>low</th>\n",
       "      <th>close</th>\n",
       "      <th>volume</th>\n",
       "      <th>trade_count</th>\n",
       "      <th>vwap</th>\n",
       "      <th>daily_return</th>\n",
       "    </tr>\n",
       "  </thead>\n",
       "  <tbody>\n",
       "    <tr>\n",
       "      <th>2016-05-02</th>\n",
       "      <td>110.74</td>\n",
       "      <td>110.7400</td>\n",
       "      <td>110.5200</td>\n",
       "      <td>110.61</td>\n",
       "      <td>3553939</td>\n",
       "      <td>15119</td>\n",
       "      <td>110.627199</td>\n",
       "      <td>NaN</td>\n",
       "      <td>206.90</td>\n",
       "      <td>208.18</td>\n",
       "      <td>206.4100</td>\n",
       "      <td>208.03</td>\n",
       "      <td>61908515</td>\n",
       "      <td>263580</td>\n",
       "      <td>207.294812</td>\n",
       "      <td>NaN</td>\n",
       "    </tr>\n",
       "    <tr>\n",
       "      <th>2016-05-03</th>\n",
       "      <td>110.89</td>\n",
       "      <td>110.9450</td>\n",
       "      <td>110.7500</td>\n",
       "      <td>110.81</td>\n",
       "      <td>3044940</td>\n",
       "      <td>15662</td>\n",
       "      <td>110.865995</td>\n",
       "      <td>0.001808</td>\n",
       "      <td>206.50</td>\n",
       "      <td>206.80</td>\n",
       "      <td>205.2800</td>\n",
       "      <td>206.13</td>\n",
       "      <td>106422142</td>\n",
       "      <td>377518</td>\n",
       "      <td>206.312060</td>\n",
       "      <td>-0.009133</td>\n",
       "    </tr>\n",
       "    <tr>\n",
       "      <th>2016-05-04</th>\n",
       "      <td>110.91</td>\n",
       "      <td>110.9315</td>\n",
       "      <td>110.7595</td>\n",
       "      <td>110.86</td>\n",
       "      <td>2920608</td>\n",
       "      <td>13982</td>\n",
       "      <td>110.879063</td>\n",
       "      <td>0.000451</td>\n",
       "      <td>205.00</td>\n",
       "      <td>205.85</td>\n",
       "      <td>204.4200</td>\n",
       "      <td>204.96</td>\n",
       "      <td>92199810</td>\n",
       "      <td>345261</td>\n",
       "      <td>205.090172</td>\n",
       "      <td>-0.005676</td>\n",
       "    </tr>\n",
       "    <tr>\n",
       "      <th>2016-05-05</th>\n",
       "      <td>110.92</td>\n",
       "      <td>111.1600</td>\n",
       "      <td>110.8010</td>\n",
       "      <td>111.14</td>\n",
       "      <td>3008142</td>\n",
       "      <td>15707</td>\n",
       "      <td>111.028363</td>\n",
       "      <td>0.002526</td>\n",
       "      <td>205.57</td>\n",
       "      <td>205.98</td>\n",
       "      <td>204.4700</td>\n",
       "      <td>204.95</td>\n",
       "      <td>67597222</td>\n",
       "      <td>280622</td>\n",
       "      <td>205.141555</td>\n",
       "      <td>-0.000049</td>\n",
       "    </tr>\n",
       "    <tr>\n",
       "      <th>2016-05-06</th>\n",
       "      <td>111.12</td>\n",
       "      <td>111.1200</td>\n",
       "      <td>110.9700</td>\n",
       "      <td>110.97</td>\n",
       "      <td>2718710</td>\n",
       "      <td>12697</td>\n",
       "      <td>111.031967</td>\n",
       "      <td>-0.001530</td>\n",
       "      <td>204.04</td>\n",
       "      <td>205.77</td>\n",
       "      <td>203.8800</td>\n",
       "      <td>205.70</td>\n",
       "      <td>89131004</td>\n",
       "      <td>340335</td>\n",
       "      <td>204.937074</td>\n",
       "      <td>0.003659</td>\n",
       "    </tr>\n",
       "    <tr>\n",
       "      <th>...</th>\n",
       "      <td>...</td>\n",
       "      <td>...</td>\n",
       "      <td>...</td>\n",
       "      <td>...</td>\n",
       "      <td>...</td>\n",
       "      <td>...</td>\n",
       "      <td>...</td>\n",
       "      <td>...</td>\n",
       "      <td>...</td>\n",
       "      <td>...</td>\n",
       "      <td>...</td>\n",
       "      <td>...</td>\n",
       "      <td>...</td>\n",
       "      <td>...</td>\n",
       "      <td>...</td>\n",
       "      <td>...</td>\n",
       "    </tr>\n",
       "    <tr>\n",
       "      <th>2021-04-26</th>\n",
       "      <td>114.74</td>\n",
       "      <td>114.8015</td>\n",
       "      <td>114.6500</td>\n",
       "      <td>114.65</td>\n",
       "      <td>3480303</td>\n",
       "      <td>13520</td>\n",
       "      <td>114.706244</td>\n",
       "      <td>-0.000871</td>\n",
       "      <td>417.42</td>\n",
       "      <td>418.22</td>\n",
       "      <td>416.8111</td>\n",
       "      <td>417.61</td>\n",
       "      <td>51824860</td>\n",
       "      <td>295870</td>\n",
       "      <td>417.508245</td>\n",
       "      <td>0.002088</td>\n",
       "    </tr>\n",
       "    <tr>\n",
       "      <th>2021-04-27</th>\n",
       "      <td>114.60</td>\n",
       "      <td>115.1300</td>\n",
       "      <td>114.3700</td>\n",
       "      <td>114.37</td>\n",
       "      <td>3820640</td>\n",
       "      <td>12720</td>\n",
       "      <td>114.498315</td>\n",
       "      <td>-0.002442</td>\n",
       "      <td>417.97</td>\n",
       "      <td>418.14</td>\n",
       "      <td>416.3000</td>\n",
       "      <td>417.52</td>\n",
       "      <td>50297139</td>\n",
       "      <td>296300</td>\n",
       "      <td>417.481360</td>\n",
       "      <td>-0.000216</td>\n",
       "    </tr>\n",
       "    <tr>\n",
       "      <th>2021-04-28</th>\n",
       "      <td>114.45</td>\n",
       "      <td>114.4685</td>\n",
       "      <td>114.2000</td>\n",
       "      <td>114.43</td>\n",
       "      <td>7075831</td>\n",
       "      <td>24303</td>\n",
       "      <td>114.379810</td>\n",
       "      <td>0.000525</td>\n",
       "      <td>417.84</td>\n",
       "      <td>419.01</td>\n",
       "      <td>416.9000</td>\n",
       "      <td>417.40</td>\n",
       "      <td>50692781</td>\n",
       "      <td>330049</td>\n",
       "      <td>417.742098</td>\n",
       "      <td>-0.000287</td>\n",
       "    </tr>\n",
       "    <tr>\n",
       "      <th>2021-04-29</th>\n",
       "      <td>114.14</td>\n",
       "      <td>114.3700</td>\n",
       "      <td>114.0900</td>\n",
       "      <td>114.37</td>\n",
       "      <td>6208142</td>\n",
       "      <td>21096</td>\n",
       "      <td>114.250702</td>\n",
       "      <td>-0.000524</td>\n",
       "      <td>420.38</td>\n",
       "      <td>420.72</td>\n",
       "      <td>416.4400</td>\n",
       "      <td>420.06</td>\n",
       "      <td>76965583</td>\n",
       "      <td>443396</td>\n",
       "      <td>418.824046</td>\n",
       "      <td>0.006373</td>\n",
       "    </tr>\n",
       "    <tr>\n",
       "      <th>2021-04-30</th>\n",
       "      <td>114.41</td>\n",
       "      <td>114.5150</td>\n",
       "      <td>114.3300</td>\n",
       "      <td>114.49</td>\n",
       "      <td>6469432</td>\n",
       "      <td>19582</td>\n",
       "      <td>114.456246</td>\n",
       "      <td>0.001049</td>\n",
       "      <td>417.67</td>\n",
       "      <td>418.54</td>\n",
       "      <td>416.3400</td>\n",
       "      <td>417.30</td>\n",
       "      <td>84731942</td>\n",
       "      <td>478844</td>\n",
       "      <td>417.651995</td>\n",
       "      <td>-0.006570</td>\n",
       "    </tr>\n",
       "  </tbody>\n",
       "</table>\n",
       "<p>1259 rows × 16 columns</p>\n",
       "</div>"
      ],
      "text/plain": [
       "               AGG                                                   \\\n",
       "              open      high       low   close   volume trade_count   \n",
       "2016-05-02  110.74  110.7400  110.5200  110.61  3553939       15119   \n",
       "2016-05-03  110.89  110.9450  110.7500  110.81  3044940       15662   \n",
       "2016-05-04  110.91  110.9315  110.7595  110.86  2920608       13982   \n",
       "2016-05-05  110.92  111.1600  110.8010  111.14  3008142       15707   \n",
       "2016-05-06  111.12  111.1200  110.9700  110.97  2718710       12697   \n",
       "...            ...       ...       ...     ...      ...         ...   \n",
       "2021-04-26  114.74  114.8015  114.6500  114.65  3480303       13520   \n",
       "2021-04-27  114.60  115.1300  114.3700  114.37  3820640       12720   \n",
       "2021-04-28  114.45  114.4685  114.2000  114.43  7075831       24303   \n",
       "2021-04-29  114.14  114.3700  114.0900  114.37  6208142       21096   \n",
       "2021-04-30  114.41  114.5150  114.3300  114.49  6469432       19582   \n",
       "\n",
       "                                        SPY                            \\\n",
       "                  vwap daily_return    open    high       low   close   \n",
       "2016-05-02  110.627199          NaN  206.90  208.18  206.4100  208.03   \n",
       "2016-05-03  110.865995     0.001808  206.50  206.80  205.2800  206.13   \n",
       "2016-05-04  110.879063     0.000451  205.00  205.85  204.4200  204.96   \n",
       "2016-05-05  111.028363     0.002526  205.57  205.98  204.4700  204.95   \n",
       "2016-05-06  111.031967    -0.001530  204.04  205.77  203.8800  205.70   \n",
       "...                ...          ...     ...     ...       ...     ...   \n",
       "2021-04-26  114.706244    -0.000871  417.42  418.22  416.8111  417.61   \n",
       "2021-04-27  114.498315    -0.002442  417.97  418.14  416.3000  417.52   \n",
       "2021-04-28  114.379810     0.000525  417.84  419.01  416.9000  417.40   \n",
       "2021-04-29  114.250702    -0.000524  420.38  420.72  416.4400  420.06   \n",
       "2021-04-30  114.456246     0.001049  417.67  418.54  416.3400  417.30   \n",
       "\n",
       "                                                            \n",
       "               volume trade_count        vwap daily_return  \n",
       "2016-05-02   61908515      263580  207.294812          NaN  \n",
       "2016-05-03  106422142      377518  206.312060    -0.009133  \n",
       "2016-05-04   92199810      345261  205.090172    -0.005676  \n",
       "2016-05-05   67597222      280622  205.141555    -0.000049  \n",
       "2016-05-06   89131004      340335  204.937074     0.003659  \n",
       "...               ...         ...         ...          ...  \n",
       "2021-04-26   51824860      295870  417.508245     0.002088  \n",
       "2021-04-27   50297139      296300  417.481360    -0.000216  \n",
       "2021-04-28   50692781      330049  417.742098    -0.000287  \n",
       "2021-04-29   76965583      443396  418.824046     0.006373  \n",
       "2021-04-30   84731942      478844  417.651995    -0.006570  \n",
       "\n",
       "[1259 rows x 16 columns]"
      ]
     },
     "execution_count": 19,
     "metadata": {},
     "output_type": "execute_result"
    }
   ],
   "source": [
    "# Printing the simulation input data\n",
    "mc_cum_returns.portfolio_data\n"
   ]
  },
  {
   "cell_type": "code",
   "execution_count": 20,
   "metadata": {},
   "outputs": [
    {
     "name": "stdout",
     "output_type": "stream",
     "text": [
      "Running Monte Carlo simulation number 0.\n",
      "Running Monte Carlo simulation number 100.\n",
      "Running Monte Carlo simulation number 200.\n",
      "Running Monte Carlo simulation number 300.\n",
      "Running Monte Carlo simulation number 400.\n",
      "OK Done\n"
     ]
    }
   ],
   "source": [
    "# Running a Monte Carlo simulation to forecast 30 years cumulative returns\n",
    "warnings.filterwarnings('ignore')          # Turn warnings off for speed\n",
    "\n",
    "mc_cum_returns.calc_cumulative_return()\n",
    "\n",
    "warnings.filterwarnings('default')         # Turn warnings back on\n",
    "print('OK Done')"
   ]
  },
  {
   "cell_type": "code",
   "execution_count": 21,
   "metadata": {},
   "outputs": [
    {
     "data": {
      "image/png": "[encoded data removed]",
      "text/plain": [
       "<Figure size 432x288 with 1 Axes>"
      ]
     },
     "metadata": {
      "needs_background": "light"
     },
     "output_type": "display_data"
    }
   ],
   "source": [
    "# Plot simulation outcomes\n",
    "line_plot = mc_cum_returns.plot_simulation()"
   ]
  },
  {
   "cell_type": "code",
   "execution_count": 22,
   "metadata": {},
   "outputs": [
    {
     "name": "stdout",
     "output_type": "stream",
     "text": [
      "\n",
      "Note: Distribution Plot appears to be Descrete but is actually Continuous.\n",
      "\n"
     ]
    },
    {
     "data": {
      "image/png": "[encoded data removed]",
      "text/plain": [
       "<Figure size 432x288 with 1 Axes>"
      ]
     },
     "metadata": {
      "needs_background": "light"
     },
     "output_type": "display_data"
    }
   ],
   "source": [
    "# Plot probability distribution and confidence intervals\n",
    "dist_plot = mc_cum_returns.plot_distribution()\n",
    "\n",
    "print('\\nNote: Distribution Plot appears to be Descrete but is actually Continuous.\\n')"
   ]
  },
  {
   "cell_type": "code",
   "execution_count": 23,
   "metadata": {},
   "outputs": [
    {
     "data": {
      "text/html": [
       "<div>\n",
       "<style scoped>\n",
       "    .dataframe tbody tr th:only-of-type {\n",
       "        vertical-align: middle;\n",
       "    }\n",
       "\n",
       "    .dataframe tbody tr th {\n",
       "        vertical-align: top;\n",
       "    }\n",
       "\n",
       "    .dataframe thead th {\n",
       "        text-align: right;\n",
       "    }\n",
       "</style>\n",
       "<table border=\"1\" class=\"dataframe\">\n",
       "  <thead>\n",
       "    <tr style=\"text-align: right;\">\n",
       "      <th></th>\n",
       "      <th>mean</th>\n",
       "      <th>median</th>\n",
       "      <th>min</th>\n",
       "      <th>max</th>\n",
       "    </tr>\n",
       "  </thead>\n",
       "  <tbody>\n",
       "    <tr>\n",
       "      <th>0</th>\n",
       "      <td>1.000000</td>\n",
       "      <td>1.000000</td>\n",
       "      <td>1.000000</td>\n",
       "      <td>1.000000</td>\n",
       "    </tr>\n",
       "    <tr>\n",
       "      <th>1</th>\n",
       "      <td>1.000007</td>\n",
       "      <td>1.000067</td>\n",
       "      <td>0.977639</td>\n",
       "      <td>1.021636</td>\n",
       "    </tr>\n",
       "    <tr>\n",
       "      <th>2</th>\n",
       "      <td>1.000213</td>\n",
       "      <td>1.000441</td>\n",
       "      <td>0.965245</td>\n",
       "      <td>1.028741</td>\n",
       "    </tr>\n",
       "    <tr>\n",
       "      <th>3</th>\n",
       "      <td>1.000930</td>\n",
       "      <td>1.000793</td>\n",
       "      <td>0.965971</td>\n",
       "      <td>1.033096</td>\n",
       "    </tr>\n",
       "    <tr>\n",
       "      <th>4</th>\n",
       "      <td>1.001827</td>\n",
       "      <td>1.001631</td>\n",
       "      <td>0.954803</td>\n",
       "      <td>1.046284</td>\n",
       "    </tr>\n",
       "    <tr>\n",
       "      <th>...</th>\n",
       "      <td>...</td>\n",
       "      <td>...</td>\n",
       "      <td>...</td>\n",
       "      <td>...</td>\n",
       "    </tr>\n",
       "    <tr>\n",
       "      <th>7556</th>\n",
       "      <td>18.899365</td>\n",
       "      <td>14.897731</td>\n",
       "      <td>2.111928</td>\n",
       "      <td>119.031185</td>\n",
       "    </tr>\n",
       "    <tr>\n",
       "      <th>7557</th>\n",
       "      <td>18.899159</td>\n",
       "      <td>14.997970</td>\n",
       "      <td>2.131343</td>\n",
       "      <td>120.172207</td>\n",
       "    </tr>\n",
       "    <tr>\n",
       "      <th>7558</th>\n",
       "      <td>18.900976</td>\n",
       "      <td>14.975539</td>\n",
       "      <td>2.112823</td>\n",
       "      <td>118.997825</td>\n",
       "    </tr>\n",
       "    <tr>\n",
       "      <th>7559</th>\n",
       "      <td>18.902517</td>\n",
       "      <td>14.946100</td>\n",
       "      <td>2.120235</td>\n",
       "      <td>119.508181</td>\n",
       "    </tr>\n",
       "    <tr>\n",
       "      <th>7560</th>\n",
       "      <td>18.900611</td>\n",
       "      <td>14.937246</td>\n",
       "      <td>2.108416</td>\n",
       "      <td>119.460497</td>\n",
       "    </tr>\n",
       "  </tbody>\n",
       "</table>\n",
       "<p>7561 rows × 4 columns</p>\n",
       "</div>"
      ],
      "text/plain": [
       "           mean     median       min         max\n",
       "0      1.000000   1.000000  1.000000    1.000000\n",
       "1      1.000007   1.000067  0.977639    1.021636\n",
       "2      1.000213   1.000441  0.965245    1.028741\n",
       "3      1.000930   1.000793  0.965971    1.033096\n",
       "4      1.001827   1.001631  0.954803    1.046284\n",
       "...         ...        ...       ...         ...\n",
       "7556  18.899365  14.897731  2.111928  119.031185\n",
       "7557  18.899159  14.997970  2.131343  120.172207\n",
       "7558  18.900976  14.975539  2.112823  118.997825\n",
       "7559  18.902517  14.946100  2.120235  119.508181\n",
       "7560  18.900611  14.937246  2.108416  119.460497\n",
       "\n",
       "[7561 rows x 4 columns]"
      ]
     },
     "metadata": {},
     "output_type": "display_data"
    },
    {
     "name": "stdout",
     "output_type": "stream",
     "text": [
      "AGG Average Daily Returns @ 40%: 0.000013 \n",
      "SPY Average Daily Returns @ 60%: 0.000375 \n",
      "Portfolio Weighted Average Daily Returns: 0.000387 \n",
      "Simple Estimate of 30yr Mean Return: 1,868.5% \n",
      "Monte Carlo Estimate of 30yr Mean Return: 1,890.1%\n"
     ]
    }
   ],
   "source": [
    "# Compute summary statistics from the simulated daily returns\n",
    "simulated_returns_data = {\n",
    "    \"mean\": list(mc_cum_returns.simulated_return.mean(axis=1)),\n",
    "    \"median\": list(mc_cum_returns.simulated_return.median(axis=1)),\n",
    "    \"min\": list(mc_cum_returns.simulated_return.min(axis=1)),\n",
    "    \"max\": list(mc_cum_returns.simulated_return.max(axis=1))\n",
    "}\n",
    "\n",
    "# Create a DataFrame with the summary statistics\n",
    "df_simulated_returns = pd.DataFrame(simulated_returns_data)\n",
    "\n",
    "# Display sample data\n",
    "display(df_simulated_returns)\n",
    "\n",
    "# Rough-Cut Check - Mean Expected Return\n",
    "mean_data = mc_cum_returns.portfolio_data.mean()\n",
    "#print(mean_data)                 # View the summary statistics data\n",
    "#print(type(mean_data))           # Identify the object type to determine how to access it\n",
    "#print(mean_data.index)           # identify the index values to select the data point of interest\n",
    "\n",
    "weighted_daily_Return_AGG = mean_data[('AGG','daily_return')] * portfolio_weight_AGG\n",
    "weighted_daily_Return_SPY = mean_data[('SPY','daily_return')] * portfolio_weight_SPY\n",
    "weighted_daily_Return_portfolio = (weighted_daily_Return_AGG) + (weighted_daily_Return_SPY)\n",
    "\n",
    "print(f\"AGG Average Daily Returns @ {(portfolio_weight_AGG * 100):,.0f}%: {(weighted_daily_Return_AGG):,.6f} \\n\"\n",
    "      f\"SPY Average Daily Returns @ {(portfolio_weight_SPY * 100):,.0f}%: {(weighted_daily_Return_SPY):,.6f} \\n\"\n",
    "      f\"Portfolio Weighted Average Daily Returns: {(weighted_daily_Return_portfolio):,.6f} \\n\"\n",
    "      f\"Simple Estimate of {trading_years}yr Mean Return: {((1 + weighted_daily_Return_portfolio) ** (trading_years * trading_days_year)) *100:,.1f}% \\n\"\n",
    "      f\"Monte Carlo Estimate of {trading_years}yr Mean Return: {(df_simulated_returns.iloc[-1]['mean']) *100:,.1f}%\")"
   ]
  },
  {
   "cell_type": "markdown",
   "metadata": {},
   "source": [
    "### Retirement Analysis"
   ]
  },
  {
   "cell_type": "markdown",
   "metadata": {},
   "source": [
    "### Calculate the expected portfolio return at the `95%` lower and upper confidence intervals based on a `$20,000` initial investment."
   ]
  },
  {
   "cell_type": "code",
   "execution_count": 24,
   "metadata": {},
   "outputs": [
    {
     "name": "stdout",
     "output_type": "stream",
     "text": [
      "There is a 95% chance that an initial investment of $20000 in the portfolio over the next 30 years will end within in the range of $88438.24 and $1056414.53. The expected value of the portfolio is $378012.23 after 30 years.\n"
     ]
    },
    {
     "name": "stderr",
     "output_type": "stream",
     "text": [
      "C:\\Users\\jersk\\003_FinTech\\git\\ftb05_APIs_Challenge\\code\\MCForecastTools.py:173: FutureWarning: The series.append method is deprecated and will be removed from pandas in a future version. Use pandas.concat instead.\n",
      "  return metrics.append(ci_series)\n"
     ]
    }
   ],
   "source": [
    "# Set initial investment\n",
    "initial_investment = 20000\n",
    "\n",
    "# Use the lower and upper `95%` confidence intervals to calculate the range of the possible outcomes of our $20,000\n",
    "tbl = mc_cum_returns.summarize_cumulative_return()\n",
    "#print(tbl)                 # View the summary statistics data\n",
    "#print(type(tbl))           # Identify the object type to determine how to access it\n",
    "#print(tbl.index)           # identify the index values to select the data point of interest\n",
    "\n",
    "expected_value = round(tbl['mean'] * initial_investment, 2 )\n",
    "ci_lower = round(tbl['95% CI Lower'] * initial_investment, 2 )\n",
    "ci_upper = round(tbl['95% CI Upper'] * initial_investment, 2 )\n",
    "\n",
    "# Print results\n",
    "print(f\"There is a 95% chance that an initial investment of ${initial_investment} in the portfolio\"\n",
    "      f\" over the next {trading_years} years will end within in the range of\"\n",
    "      f\" ${ci_lower} and ${ci_upper}. \"\n",
    "      f\"The expected value of the portfolio is ${expected_value} after {trading_years} years.\")"
   ]
  },
  {
   "cell_type": "markdown",
   "metadata": {},
   "source": [
    "### Calculate the expected portfolio return at the `95%` lower and upper confidence intervals based on a `50%` increase in the initial investment."
   ]
  },
  {
   "cell_type": "code",
   "execution_count": 25,
   "metadata": {},
   "outputs": [
    {
     "name": "stdout",
     "output_type": "stream",
     "text": [
      "There is a 95% chance that an initial investment of $30,000 in the portfolio over the next 30 years will end within in the range of $132657.36 and $1584621.8The expected value of the portfolio is $567018.34 after 30 years.\n"
     ]
    }
   ],
   "source": [
    "# Set initial investment\n",
    "initial_investment = initial_investment * 1.5\n",
    "\n",
    "# Use the lower and upper `95%` confidence intervals to calculate the range of the possible outcomes of our $30,000\n",
    "expected_value = round(tbl['mean'] * initial_investment, 2 )\n",
    "ci_lower = round(tbl['95% CI Lower'] * initial_investment, 2 )\n",
    "ci_upper = round(tbl['95% CI Upper'] * initial_investment, 2 )\n",
    "\n",
    "# Print results\n",
    "print(f\"There is a 95% chance that an initial investment of ${initial_investment:,.0f} in the portfolio\"\n",
    "      f\" over the next {trading_years} years will end within in the range of\"\n",
    "      f\" ${ci_lower} and ${ci_upper}\"\n",
    "      f\"The expected value of the portfolio is ${expected_value} after {trading_years} years.\")"
   ]
  },
  {
   "cell_type": "markdown",
   "metadata": {},
   "source": [
    "## Optional Challenge - Early Retirement\n"
   ]
  },
  {
   "cell_type": "markdown",
   "metadata": {},
   "source": [
    "### Proposed but not Solved Solution:\n",
    "\n",
    "### Scenario - How much money does the CTO need to retire?\n",
    "1. The intial scenario is for 30 years and retirement age is 65 years old.\n",
    "    - The CTO is 35 years old\n",
    "2. Retirement funding needs for the three scenarios is:   \n",
    "    - 30 year investment horizon: retire @ age 65 --> 25 years of income \n",
    "    -  5 year investment horizon: retire @ age 40 --> 50 years of income\n",
    "    - 10 year investment horizon: retire @ age 45 --> 45 years of income\n",
    "3. In Canada, RRSP maximum annual contributions is 18% or 29k\n",
    "    - Assume that 20k is 20% of Annual income\n",
    "    - Anual income is 100K\n",
    "    - Anual retirtement income = 70% of anual income = 70K\n",
    "    - Assumption: Exclude other government programs like CPP and OAS.\n",
    "4. Applying the 4% Rule (incorrectly)\n",
    "    - One can withdraw 4% of their portfolio per year with a 95% chance of not running out of money for 30 years\n",
    "    - 70K of income requires a portfolio of 1.75M (1.75M x 4% = 70K)\n",
    "\n",
    "### Scenario - Is the objective of retiring early feasable?\n",
    "1. Base Scenario: Portfolio to reach 1.75M my age 60.\n",
    "    - Good news: 25 is less tha 30 years\n",
    "    - Bad news:  It will require additional investments\n",
    "    - Good News: Definitly achievable\n",
    "2. Alternate Scenario: Retire earlier than age 60.\n",
    "    - Once the portfolio reaches 1.75M \n",
    "    - For every 70K the portfolio exceeds 1.75M - Deduct 1 year \n",
    "    - Good News: This is doable too\n",
    "    - Bad News: It will require additional invenstments\n",
    "\n",
    "### Scenario - Approach to detemining which year the CTO should be able to retire in.\n",
    "1. Assumption: CTO can invest 20K per year until retirement\n",
    "2. Run the simulation for 25 years (to age 60)\n",
    "3. Multipy each of the 25 results by 20K\n",
    "    - Row 0 = Year of retiement --> Multipyer is 1\n",
    "    - Row 1 = Year of retiement - 1 --> Multiplier = 1 + the expeted return for 1 year\n",
    "4. Find the year in which the sum of the resuts is 1.75M (50/50 Scenario)\n",
    "    - 50% chance this number will be reached sooner\n",
    "    - 50% chance it will be reached later\n",
    "5. Add an additional year \n",
    "    - Divide the delta from 1.75M by 70k \n",
    "    - This is how many years earlier than 60 the CTO can retire\n",
    "6. Repeat adding years until Years to Retiement = Years from Retirement Example:\n",
    "    - At year 15 (50 years old) 1.75M is reached --> gap to 60 is 10 years\n",
    "    - At year 16 (51 years old) 70k (1yrs) extra is reached --> gap to 59 is 8 years\n",
    "    - At year 17 (52 years old) 210k (3yrs) extra is reached --> gap to 57 is 5 years\n",
    "    - At year 18 (53 years old) 350k (5yrs) extra is reached --> gap to 55 is 2 years\n",
    "    - At year 19 (54 years old) 540k (8yrs) extra is reached --> gap to 52 is -2 years\n",
    "    - Conclusion: Can retire at the age of 54 \n"
   ]
  },
  {
   "cell_type": "markdown",
   "metadata": {},
   "source": [
    "### Five Years Retirement Option"
   ]
  },
  {
   "cell_type": "code",
   "execution_count": 26,
   "metadata": {},
   "outputs": [],
   "source": [
    "# Configuring a Monte Carlo simulation to forecast 5 years cumulative returns\n",
    "trading_years = 5\n",
    "trading_days_year = 252\n",
    "#num_sims = 100                # Developing code with 100 simulations\n",
    "num_sims = 500                 # Requiremnt code with 500 simulations   \n",
    "portfolio_weight_AGG = .10     # AGG = 10%\n",
    "portfolio_weight_SPY = .90     # SPY = 90%\n",
    "security_weights = [portfolio_weight_AGG, portfolio_weight_SPY]   \n",
    "\n",
    "mc_cum_returns = MCSimulation(\n",
    "    portfolio_data = df_alpaca_data.copy()\n",
    "    , weights = security_weights\n",
    "    , num_simulation = num_sims\n",
    "    , num_trading_days = trading_days_year * trading_years\n",
    ")"
   ]
  },
  {
   "cell_type": "code",
   "execution_count": 27,
   "metadata": {},
   "outputs": [
    {
     "name": "stdout",
     "output_type": "stream",
     "text": [
      "Running Monte Carlo simulation number 0.\n",
      "Running Monte Carlo simulation number 100.\n",
      "Running Monte Carlo simulation number 200.\n",
      "Running Monte Carlo simulation number 300.\n",
      "Running Monte Carlo simulation number 400.\n",
      "OK Done\n"
     ]
    }
   ],
   "source": [
    "# Running a Monte Carlo simulation to forecast 5 years cumulative returns\n",
    "warnings.filterwarnings('ignore')          # Turn warnings off for speed\n",
    "\n",
    "mc_cum_returns.calc_cumulative_return()\n",
    "\n",
    "warnings.filterwarnings('default')         # Turn warnings back on\n",
    "print('OK Done')"
   ]
  },
  {
   "cell_type": "code",
   "execution_count": 28,
   "metadata": {},
   "outputs": [
    {
     "data": {
      "image/png": "[encoded data removed]",
      "text/plain": [
       "<Figure size 432x288 with 1 Axes>"
      ]
     },
     "metadata": {
      "needs_background": "light"
     },
     "output_type": "display_data"
    }
   ],
   "source": [
    "# Plot simulation outcomes\n",
    "line_plot = mc_cum_returns.plot_simulation()"
   ]
  },
  {
   "cell_type": "code",
   "execution_count": 29,
   "metadata": {},
   "outputs": [
    {
     "name": "stdout",
     "output_type": "stream",
     "text": [
      "\n",
      "Note: Distribution Plot appears to be Descrete but is actually Continuous.\n",
      "\n"
     ]
    },
    {
     "data": {
      "image/png": "[encoded data removed]",
      "text/plain": [
       "<Figure size 432x288 with 1 Axes>"
      ]
     },
     "metadata": {
      "needs_background": "light"
     },
     "output_type": "display_data"
    }
   ],
   "source": [
    "# Plot probability distribution and confidence intervals\n",
    "dist_plot = mc_cum_returns.plot_distribution()\n",
    "\n",
    "print('\\nNote: Distribution Plot appears to be Descrete but is actually Continuous.\\n')"
   ]
  },
  {
   "cell_type": "code",
   "execution_count": 30,
   "metadata": {},
   "outputs": [
    {
     "data": {
      "text/html": [
       "<div>\n",
       "<style scoped>\n",
       "    .dataframe tbody tr th:only-of-type {\n",
       "        vertical-align: middle;\n",
       "    }\n",
       "\n",
       "    .dataframe tbody tr th {\n",
       "        vertical-align: top;\n",
       "    }\n",
       "\n",
       "    .dataframe thead th {\n",
       "        text-align: right;\n",
       "    }\n",
       "</style>\n",
       "<table border=\"1\" class=\"dataframe\">\n",
       "  <thead>\n",
       "    <tr style=\"text-align: right;\">\n",
       "      <th></th>\n",
       "      <th>mean</th>\n",
       "      <th>median</th>\n",
       "      <th>min</th>\n",
       "      <th>max</th>\n",
       "    </tr>\n",
       "  </thead>\n",
       "  <tbody>\n",
       "    <tr>\n",
       "      <th>0</th>\n",
       "      <td>1.000000</td>\n",
       "      <td>1.000000</td>\n",
       "      <td>1.000000</td>\n",
       "      <td>1.000000</td>\n",
       "    </tr>\n",
       "    <tr>\n",
       "      <th>1</th>\n",
       "      <td>1.001183</td>\n",
       "      <td>1.000632</td>\n",
       "      <td>0.966171</td>\n",
       "      <td>1.032076</td>\n",
       "    </tr>\n",
       "    <tr>\n",
       "      <th>2</th>\n",
       "      <td>1.001320</td>\n",
       "      <td>1.001249</td>\n",
       "      <td>0.954922</td>\n",
       "      <td>1.042618</td>\n",
       "    </tr>\n",
       "    <tr>\n",
       "      <th>3</th>\n",
       "      <td>1.001436</td>\n",
       "      <td>1.000740</td>\n",
       "      <td>0.947582</td>\n",
       "      <td>1.047920</td>\n",
       "    </tr>\n",
       "    <tr>\n",
       "      <th>4</th>\n",
       "      <td>1.002413</td>\n",
       "      <td>1.002178</td>\n",
       "      <td>0.945445</td>\n",
       "      <td>1.061255</td>\n",
       "    </tr>\n",
       "    <tr>\n",
       "      <th>...</th>\n",
       "      <td>...</td>\n",
       "      <td>...</td>\n",
       "      <td>...</td>\n",
       "      <td>...</td>\n",
       "    </tr>\n",
       "    <tr>\n",
       "      <th>1256</th>\n",
       "      <td>1.975290</td>\n",
       "      <td>1.843896</td>\n",
       "      <td>0.543879</td>\n",
       "      <td>6.324563</td>\n",
       "    </tr>\n",
       "    <tr>\n",
       "      <th>1257</th>\n",
       "      <td>1.977358</td>\n",
       "      <td>1.842041</td>\n",
       "      <td>0.542632</td>\n",
       "      <td>6.373488</td>\n",
       "    </tr>\n",
       "    <tr>\n",
       "      <th>1258</th>\n",
       "      <td>1.978201</td>\n",
       "      <td>1.835822</td>\n",
       "      <td>0.546425</td>\n",
       "      <td>6.431674</td>\n",
       "    </tr>\n",
       "    <tr>\n",
       "      <th>1259</th>\n",
       "      <td>1.979612</td>\n",
       "      <td>1.840035</td>\n",
       "      <td>0.533846</td>\n",
       "      <td>6.403320</td>\n",
       "    </tr>\n",
       "    <tr>\n",
       "      <th>1260</th>\n",
       "      <td>1.978840</td>\n",
       "      <td>1.839899</td>\n",
       "      <td>0.527173</td>\n",
       "      <td>6.454929</td>\n",
       "    </tr>\n",
       "  </tbody>\n",
       "</table>\n",
       "<p>1261 rows × 4 columns</p>\n",
       "</div>"
      ],
      "text/plain": [
       "          mean    median       min       max\n",
       "0     1.000000  1.000000  1.000000  1.000000\n",
       "1     1.001183  1.000632  0.966171  1.032076\n",
       "2     1.001320  1.001249  0.954922  1.042618\n",
       "3     1.001436  1.000740  0.947582  1.047920\n",
       "4     1.002413  1.002178  0.945445  1.061255\n",
       "...        ...       ...       ...       ...\n",
       "1256  1.975290  1.843896  0.543879  6.324563\n",
       "1257  1.977358  1.842041  0.542632  6.373488\n",
       "1258  1.978201  1.835822  0.546425  6.431674\n",
       "1259  1.979612  1.840035  0.533846  6.403320\n",
       "1260  1.978840  1.839899  0.527173  6.454929\n",
       "\n",
       "[1261 rows x 4 columns]"
      ]
     },
     "metadata": {},
     "output_type": "display_data"
    },
    {
     "name": "stdout",
     "output_type": "stream",
     "text": [
      "AGG Average Daily Returns @ 10%: 0.000003 \n",
      "SPY Average Daily Returns @ 90%: 0.000562 \n",
      "Portfolio Weighted Average Daily Returns: 0.000565 \n",
      "Simple Estimate of 5yr Mean Return: 203.8% \n",
      "Monte Carlo Estimate of 5yr Mean Return: 197.9%\n"
     ]
    }
   ],
   "source": [
    "# Fetch summary statistics from the Monte Carlo simulation results\n",
    "simulated_returns_data = {\n",
    "    \"mean\": list(mc_cum_returns.simulated_return.mean(axis=1)),\n",
    "    \"median\": list(mc_cum_returns.simulated_return.median(axis=1)),\n",
    "    \"min\": list(mc_cum_returns.simulated_return.min(axis=1)),\n",
    "    \"max\": list(mc_cum_returns.simulated_return.max(axis=1))\n",
    "}\n",
    "\n",
    "# Create a DataFrame with the summary statistics\n",
    "df_simulated_returns = pd.DataFrame(simulated_returns_data)\n",
    "\n",
    "# Display sample data\n",
    "display(df_simulated_returns)\n",
    "\n",
    "# Rough-Cut Check - Mean Expected Return\n",
    "mean_data = mc_cum_returns.portfolio_data.mean()\n",
    "#print(mean_data)                 # View the summary statistics data\n",
    "#print(type(mean_data))           # Identify the object type to determine how to access it\n",
    "#print(mean_data.index)           # identify the index values to select the data point of interest\n",
    "\n",
    "weighted_daily_Return_AGG = mean_data[('AGG','daily_return')] * portfolio_weight_AGG\n",
    "weighted_daily_Return_SPY = mean_data[('SPY','daily_return')] * portfolio_weight_SPY\n",
    "weighted_daily_Return_portfolio = (weighted_daily_Return_AGG) + (weighted_daily_Return_SPY)\n",
    "\n",
    "print(f\"AGG Average Daily Returns @ {(portfolio_weight_AGG * 100):,.0f}%: {(weighted_daily_Return_AGG):,.6f} \\n\"\n",
    "      f\"SPY Average Daily Returns @ {(portfolio_weight_SPY * 100):,.0f}%: {(weighted_daily_Return_SPY):,.6f} \\n\"\n",
    "      f\"Portfolio Weighted Average Daily Returns: {(weighted_daily_Return_portfolio):,.6f} \\n\"\n",
    "      f\"Simple Estimate of {trading_years}yr Mean Return: {((1 + weighted_daily_Return_portfolio) ** (trading_years * trading_days_year)) *100:,.1f}% \\n\"\n",
    "      f\"Monte Carlo Estimate of {trading_years}yr Mean Return: {(df_simulated_returns.iloc[-1]['mean']) *100:,.1f}%\")"
   ]
  },
  {
   "cell_type": "code",
   "execution_count": 31,
   "metadata": {},
   "outputs": [
    {
     "name": "stdout",
     "output_type": "stream",
     "text": [
      "There is a 95% chance that an initial investment of $60000 in the portfolio over the next 5 years will end within in the range of $132657.36 and $1584621.8. The expected value of the portfolio is $118730.39 after 5 years.\n"
     ]
    },
    {
     "name": "stderr",
     "output_type": "stream",
     "text": [
      "C:\\Users\\jersk\\003_FinTech\\git\\ftb05_APIs_Challenge\\code\\MCForecastTools.py:173: FutureWarning: The series.append method is deprecated and will be removed from pandas in a future version. Use pandas.concat instead.\n",
      "  return metrics.append(ci_series)\n"
     ]
    }
   ],
   "source": [
    "# Set initial investment\n",
    "initial_investment = 60000\n",
    "\n",
    "# Use the lower and upper `95%` confidence intervals to calculate the range of the possible outcomes of our $60,000\n",
    "tbl = mc_cum_returns.summarize_cumulative_return()\n",
    "#print(tbl)                 # View the summary statistics data\n",
    "#print(type(tbl))           # Identify the object type to determine how to access it\n",
    "#print(tbl.index)           # identify the index values to select the data point of interest\n",
    "\n",
    "expected_value = round(tbl['mean'] * initial_investment, 2 )\n",
    "ci_lower_five = round(tbl['95% CI Lower'] * initial_investment, 2 )\n",
    "ci_upper_five = round(tbl['95% CI Upper'] * initial_investment, 2 )\n",
    "\n",
    "\n",
    "# Print results\n",
    "print(f\"There is a 95% chance that an initial investment of ${initial_investment} in the portfolio\"\n",
    "      f\" over the next {trading_years} years will end within in the range of\"\n",
    "      f\" ${ci_lower} and ${ci_upper}. \"\n",
    "      f\"The expected value of the portfolio is ${expected_value} after {trading_years} years.\")"
   ]
  },
  {
   "cell_type": "markdown",
   "metadata": {},
   "source": [
    "### Ten Years Retirement Option"
   ]
  },
  {
   "cell_type": "code",
   "execution_count": 32,
   "metadata": {},
   "outputs": [],
   "source": [
    "# Configuring a Monte Carlo simulation to forecast 10 years cumulative returns\n",
    "trading_years = 10\n",
    "trading_days_year = 252\n",
    "#num_sims = 100                # Developing code with 100 simulations\n",
    "num_sims = 500                 # Requiremnt code with 500 simulations   \n",
    "portfolio_weight_AGG = .20     # AGG = 20%\n",
    "portfolio_weight_SPY = .80     # SPY = 80%\n",
    "security_weights = [portfolio_weight_AGG, portfolio_weight_SPY]   \n",
    "\n",
    "mc_cum_returns = MCSimulation(\n",
    "    portfolio_data = df_alpaca_data.copy()\n",
    "    , weights = security_weights\n",
    "    , num_simulation = num_sims\n",
    "    , num_trading_days = trading_days_year * trading_years\n",
    ")"
   ]
  },
  {
   "cell_type": "code",
   "execution_count": 33,
   "metadata": {},
   "outputs": [
    {
     "name": "stdout",
     "output_type": "stream",
     "text": [
      "Running Monte Carlo simulation number 0.\n",
      "Running Monte Carlo simulation number 100.\n",
      "Running Monte Carlo simulation number 200.\n",
      "Running Monte Carlo simulation number 300.\n",
      "Running Monte Carlo simulation number 400.\n",
      "OK Done\n"
     ]
    }
   ],
   "source": [
    "# Running a Monte Carlo simulation to forecast 10 years cumulative returns\n",
    "warnings.filterwarnings('ignore')          # Turn warnings off for speed\n",
    "\n",
    "mc_cum_returns.calc_cumulative_return()\n",
    "\n",
    "warnings.filterwarnings('default')         # Turn warnings back on\n",
    "print('OK Done')"
   ]
  },
  {
   "cell_type": "code",
   "execution_count": 34,
   "metadata": {},
   "outputs": [
    {
     "data": {
      "image/png": "[encoded data removed]",
      "text/plain": [
       "<Figure size 432x288 with 1 Axes>"
      ]
     },
     "metadata": {
      "needs_background": "light"
     },
     "output_type": "display_data"
    }
   ],
   "source": [
    "# Plot simulation outcomes\n",
    "line_plot = mc_cum_returns.plot_simulation()"
   ]
  },
  {
   "cell_type": "code",
   "execution_count": 35,
   "metadata": {},
   "outputs": [
    {
     "name": "stdout",
     "output_type": "stream",
     "text": [
      "\n",
      "Note: Distribution Plot appears to be Descrete but is actually Continuous.\n",
      "\n"
     ]
    },
    {
     "data": {
      "image/png": "[encoded data removed]",
      "text/plain": [
       "<Figure size 432x288 with 1 Axes>"
      ]
     },
     "metadata": {
      "needs_background": "light"
     },
     "output_type": "display_data"
    }
   ],
   "source": [
    "# Plot probability distribution and confidence intervals\n",
    "dist_plot = mc_cum_returns.plot_distribution()\n",
    "\n",
    "print('\\nNote: Distribution Plot appears to be Descrete but is actually Continuous.\\n')"
   ]
  },
  {
   "cell_type": "code",
   "execution_count": 36,
   "metadata": {},
   "outputs": [
    {
     "data": {
      "text/html": [
       "<div>\n",
       "<style scoped>\n",
       "    .dataframe tbody tr th:only-of-type {\n",
       "        vertical-align: middle;\n",
       "    }\n",
       "\n",
       "    .dataframe tbody tr th {\n",
       "        vertical-align: top;\n",
       "    }\n",
       "\n",
       "    .dataframe thead th {\n",
       "        text-align: right;\n",
       "    }\n",
       "</style>\n",
       "<table border=\"1\" class=\"dataframe\">\n",
       "  <thead>\n",
       "    <tr style=\"text-align: right;\">\n",
       "      <th></th>\n",
       "      <th>mean</th>\n",
       "      <th>median</th>\n",
       "      <th>min</th>\n",
       "      <th>max</th>\n",
       "    </tr>\n",
       "  </thead>\n",
       "  <tbody>\n",
       "    <tr>\n",
       "      <th>0</th>\n",
       "      <td>1.000000</td>\n",
       "      <td>1.000000</td>\n",
       "      <td>1.000000</td>\n",
       "      <td>1.000000</td>\n",
       "    </tr>\n",
       "    <tr>\n",
       "      <th>1</th>\n",
       "      <td>1.000341</td>\n",
       "      <td>1.000214</td>\n",
       "      <td>0.973698</td>\n",
       "      <td>1.026703</td>\n",
       "    </tr>\n",
       "    <tr>\n",
       "      <th>2</th>\n",
       "      <td>1.000805</td>\n",
       "      <td>1.001267</td>\n",
       "      <td>0.963494</td>\n",
       "      <td>1.040330</td>\n",
       "    </tr>\n",
       "    <tr>\n",
       "      <th>3</th>\n",
       "      <td>1.001397</td>\n",
       "      <td>1.001046</td>\n",
       "      <td>0.952561</td>\n",
       "      <td>1.049249</td>\n",
       "    </tr>\n",
       "    <tr>\n",
       "      <th>4</th>\n",
       "      <td>1.001977</td>\n",
       "      <td>1.001548</td>\n",
       "      <td>0.924800</td>\n",
       "      <td>1.070265</td>\n",
       "    </tr>\n",
       "    <tr>\n",
       "      <th>...</th>\n",
       "      <td>...</td>\n",
       "      <td>...</td>\n",
       "      <td>...</td>\n",
       "      <td>...</td>\n",
       "    </tr>\n",
       "    <tr>\n",
       "      <th>2516</th>\n",
       "      <td>3.545614</td>\n",
       "      <td>3.228569</td>\n",
       "      <td>0.657087</td>\n",
       "      <td>12.683393</td>\n",
       "    </tr>\n",
       "    <tr>\n",
       "      <th>2517</th>\n",
       "      <td>3.544211</td>\n",
       "      <td>3.247298</td>\n",
       "      <td>0.653968</td>\n",
       "      <td>12.740810</td>\n",
       "    </tr>\n",
       "    <tr>\n",
       "      <th>2518</th>\n",
       "      <td>3.544521</td>\n",
       "      <td>3.250467</td>\n",
       "      <td>0.648682</td>\n",
       "      <td>12.829140</td>\n",
       "    </tr>\n",
       "    <tr>\n",
       "      <th>2519</th>\n",
       "      <td>3.546191</td>\n",
       "      <td>3.263125</td>\n",
       "      <td>0.655599</td>\n",
       "      <td>12.795906</td>\n",
       "    </tr>\n",
       "    <tr>\n",
       "      <th>2520</th>\n",
       "      <td>3.546039</td>\n",
       "      <td>3.259974</td>\n",
       "      <td>0.652214</td>\n",
       "      <td>12.854890</td>\n",
       "    </tr>\n",
       "  </tbody>\n",
       "</table>\n",
       "<p>2521 rows × 4 columns</p>\n",
       "</div>"
      ],
      "text/plain": [
       "          mean    median       min        max\n",
       "0     1.000000  1.000000  1.000000   1.000000\n",
       "1     1.000341  1.000214  0.973698   1.026703\n",
       "2     1.000805  1.001267  0.963494   1.040330\n",
       "3     1.001397  1.001046  0.952561   1.049249\n",
       "4     1.001977  1.001548  0.924800   1.070265\n",
       "...        ...       ...       ...        ...\n",
       "2516  3.545614  3.228569  0.657087  12.683393\n",
       "2517  3.544211  3.247298  0.653968  12.740810\n",
       "2518  3.544521  3.250467  0.648682  12.829140\n",
       "2519  3.546191  3.263125  0.655599  12.795906\n",
       "2520  3.546039  3.259974  0.652214  12.854890\n",
       "\n",
       "[2521 rows x 4 columns]"
      ]
     },
     "metadata": {},
     "output_type": "display_data"
    },
    {
     "name": "stdout",
     "output_type": "stream",
     "text": [
      "AGG Average Daily Returns @ 20%: 0.000006 \n",
      "SPY Average Daily Returns @ 80%: 0.000499 \n",
      "Portfolio Weighted Average Daily Returns: 0.000506 \n",
      "Simple Estimate of 10yr Mean Return: 357.7% \n",
      "Monte Carlo Estimate of 10yr Mean Return: 354.6%\n"
     ]
    }
   ],
   "source": [
    "# Fetch summary statistics from the Monte Carlo simulation results\n",
    "simulated_returns_data = {\n",
    "    \"mean\": list(mc_cum_returns.simulated_return.mean(axis=1)),\n",
    "    \"median\": list(mc_cum_returns.simulated_return.median(axis=1)),\n",
    "    \"min\": list(mc_cum_returns.simulated_return.min(axis=1)),\n",
    "    \"max\": list(mc_cum_returns.simulated_return.max(axis=1))\n",
    "}\n",
    "\n",
    "# Create a DataFrame with the summary statistics\n",
    "df_simulated_returns = pd.DataFrame(simulated_returns_data)\n",
    "\n",
    "# Display sample data\n",
    "display(df_simulated_returns)\n",
    "\n",
    "# Rough-Cut Check - Mean Expected Return\n",
    "mean_data = mc_cum_returns.portfolio_data.mean()\n",
    "#print(mean_data)                 # View the summary statistics data\n",
    "#print(type(mean_data))           # Identify the object type to determine how to access it\n",
    "#print(mean_data.index)           # identify the index values to select the data point of interest\n",
    "\n",
    "weighted_daily_Return_AGG = mean_data[('AGG','daily_return')] * portfolio_weight_AGG\n",
    "weighted_daily_Return_SPY = mean_data[('SPY','daily_return')] * portfolio_weight_SPY\n",
    "weighted_daily_Return_portfolio = (weighted_daily_Return_AGG) + (weighted_daily_Return_SPY)\n",
    "\n",
    "print(f\"AGG Average Daily Returns @ {(portfolio_weight_AGG * 100):,.0f}%: {(weighted_daily_Return_AGG):,.6f} \\n\"\n",
    "      f\"SPY Average Daily Returns @ {(portfolio_weight_SPY * 100):,.0f}%: {(weighted_daily_Return_SPY):,.6f} \\n\"\n",
    "      f\"Portfolio Weighted Average Daily Returns: {(weighted_daily_Return_portfolio):,.6f} \\n\"\n",
    "      f\"Simple Estimate of {trading_years}yr Mean Return: {((1 + weighted_daily_Return_portfolio) ** (trading_years * trading_days_year)) *100:,.1f}% \\n\"\n",
    "      f\"Monte Carlo Estimate of {trading_years}yr Mean Return: {(df_simulated_returns.iloc[-1]['mean']) *100:,.1f}%\")"
   ]
  },
  {
   "cell_type": "code",
   "execution_count": 37,
   "metadata": {},
   "outputs": [
    {
     "name": "stdout",
     "output_type": "stream",
     "text": [
      "There is a 95% chance that an initial investment of $60000 in the portfolio over the next 10 years will end within in the range of $132657.36 and $1584621.8. The expected value of the portfolio is $212762.35 after 10 years.\n"
     ]
    },
    {
     "name": "stderr",
     "output_type": "stream",
     "text": [
      "C:\\Users\\jersk\\003_FinTech\\git\\ftb05_APIs_Challenge\\code\\MCForecastTools.py:173: FutureWarning: The series.append method is deprecated and will be removed from pandas in a future version. Use pandas.concat instead.\n",
      "  return metrics.append(ci_series)\n"
     ]
    }
   ],
   "source": [
    "# Set initial investment\n",
    "initial_investment = 60000\n",
    "\n",
    "# Use the lower and upper `95%` confidence intervals to calculate the range of the possible outcomes of our $60,000\n",
    "tbl = mc_cum_returns.summarize_cumulative_return()\n",
    "#print(tbl)                 # View the summary statistics data\n",
    "#print(type(tbl))           # Identify the object type to determine how to access it\n",
    "#print(tbl.index)           # identify the index values to select the data point of interest\n",
    "\n",
    "expected_value = round(tbl['mean'] * initial_investment, 2 )\n",
    "ci_lower_ten = round(tbl['95% CI Lower'] * initial_investment, 2 )\n",
    "ci_upper_ten = round(tbl['95% CI Upper'] * initial_investment, 2 )\n",
    "\n",
    "# Print results\n",
    "print(f\"There is a 95% chance that an initial investment of ${initial_investment} in the portfolio\"\n",
    "      f\" over the next {trading_years} years will end within in the range of\"\n",
    "      f\" ${ci_lower} and ${ci_upper}. \"\n",
    "      f\"The expected value of the portfolio is ${expected_value} after {trading_years} years.\")"
   ]
  },
  {
   "cell_type": "code",
   "execution_count": null,
   "metadata": {},
   "outputs": [],
   "source": []
  }
 ],
 "metadata": {
  "kernelspec": {
   "display_name": "Python 3 (ipykernel)",
   "language": "python",
   "name": "python3"
  },
  "language_info": {
   "codemirror_mode": {
    "name": "ipython",
    "version": 3
   },
   "file_extension": ".py",
   "mimetype": "text/x-python",
   "name": "python",
   "nbconvert_exporter": "python",
   "pygments_lexer": "ipython3",
   "version": "3.8.3"
  },
  "nteract": {
   "version": "0.28.0"
  }
 },
 "nbformat": 4,
 "nbformat_minor": 4
}
